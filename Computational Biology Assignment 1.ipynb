{
 "cells": [
  {
   "cell_type": "code",
   "execution_count": 8,
   "id": "c62f25",
   "metadata": {
    "collapsed": false
   },
   "outputs": [
   ],
   "source": [
    "import boolean2 as b2\n",
    "import matplotlib.pyplot as plt"
   ]
  },
  {
   "cell_type": "code",
   "execution_count": 48,
   "id": "0f9bb4",
   "metadata": {
    "collapsed": false
   },
   "outputs": [
   ],
   "source": [
    "HERCEPTIN_NULL = \"\"\" \n",
    "#Initial values\n",
    "\n",
    "HER2 = True\n",
    "ERK = False\n",
    "P38 = False\n",
    "JNK = False\n",
    "DUSP = False\n",
    "SURVIVAL = False\n",
    "HERCEPTIN = False\n",
    "DUSP_INHIBITOR = False\n",
    "\n",
    "#Rules\n",
    "\n",
    "HER2* = HER2 and not HERCEPTIN\n",
    "ERK* = HER2\n",
    "P38* = HER2 and not DUSP\n",
    "JNK* = HER2 and not DUSP \n",
    "DUSP* = JNK\n",
    "SURVIVAL* = ERK and not JNK and not P38\n",
    "\"\"\""
   ]
  },
  {
   "cell_type": "code",
   "execution_count": 60,
   "id": "cac834",
   "metadata": {
    "collapsed": false
   },
   "outputs": [
    {
     "name": "stdout",
     "output_type": "stream",
     "text": [
      "DUSP_INHIBITOR [False, False, False, False, False, False]\n",
      "SURVIVAL [False, False, False, False, True, True]\n",
      "HERCEPTIN [False, False, False, False, False, False]\n",
      "P38 [False, True, True, False, False, True]\n",
      "JNK [False, True, True, False, False, True]\n",
      "HER2 [True, True, True, True, True, True]\n",
      "DUSP [False, False, True, True, False, False]\n",
      "ERK [False, True, True, True, True, True]\n"
     ]
    }
   ],
   "source": [
    "model = b2.Model(text=HERCEPTIN_NULL, mode=\"sync\")\n",
    "model.initialize()\n",
    "model.iterate(steps=5)\n",
    "for node in model.data:\n",
    "    print node, model.data[node]"
   ]
  },
  {
   "cell_type": "code",
   "execution_count": 42,
   "id": "981bb5",
   "metadata": {
    "collapsed": false
   },
   "outputs": [
   ],
   "source": [
    "HERCEPTIN = \"\"\" \n",
    "#Initial values\n",
    "\n",
    "HER2 = True\n",
    "ERK = False\n",
    "P38 = False\n",
    "JNK = False\n",
    "DUSP = False\n",
    "SURVIVAL = False\n",
    "HERCEPTIN = True\n",
    "DUSP_INHIBITOR = False\n",
    "\n",
    "HER2* = HER2 and not HERCEPTIN\n",
    "ERK* = HER2\n",
    "P38* = HER2 and not DUSP\n",
    "JNK* = HER2 and not DUSP \n",
    "DUSP* = JNK\n",
    "SURVIVAL* = ERK and not JNK and not P38\n",
    "\"\"\""
   ]
  },
  {
   "cell_type": "code",
   "execution_count": 43,
   "id": "4cfe28",
   "metadata": {
    "collapsed": false
   },
   "outputs": [
    {
     "name": "stdout",
     "output_type": "stream",
     "text": [
      "SURVIVAL [False, False, False, False, False, False, False, False, False, False, False]\n",
      "HERCEPTIN [True, True, True, True, True, True, True, True, True, True, True]\n",
      "P38 [False, True, False, False, False, False, False, False, False, False, False]\n",
      "JNK [False, True, False, False, False, False, False, False, False, False, False]\n",
      "HER2 [True, False, False, False, False, False, False, False, False, False, False]\n",
      "DUSP_INHIBIITOR [False, False, False, False, False, False, False, False, False, False, False]\n",
      "DUSP [False, False, True, False, False, False, False, False, False, False, False]\n",
      "ERK [False, True, False, False, False, False, False, False, False, False, False]\n"
     ]
    }
   ],
   "source": [
    "model = b2.Model(text=HERCEPTIN, mode=\"sync\")\n",
    "model.initialize()\n",
    "model.iterate(steps=10)\n",
    "for node in model.data:\n",
    "    print node, model.data[node]"
   ]
  },
  {
   "cell_type": "code",
   "execution_count": 55,
   "id": "db41ca",
   "metadata": {
    "collapsed": false
   },
   "outputs": [
   ],
   "source": [
    "DUSP_INHIBITOR = \"\"\" \n",
    "#Initial values\n",
    "\n",
    "HER2 = True\n",
    "ERK = False\n",
    "P38 = False\n",
    "JNK = False\n",
    "DUSP = False\n",
    "SURVIVAL = False\n",
    "HERCEPTIN = False\n",
    "DUSP_INHIBITOR = True\n",
    "\n",
    "#Rules\n",
    "\n",
    "HER2* = HER2 and not HERCEPTIN\n",
    "ERK* = HER2\n",
    "P38* = HER2 and not DUSP\n",
    "JNK* = HER2 and not DUSP \n",
    "DUSP* = JNK and not DUSP_INHIBITOR\n",
    "SURVIVAL* = ERK and not JNK and not P38\n",
    "\"\"\""
   ]
  },
  {
   "cell_type": "code",
   "execution_count": 56,
   "id": "1c04d1",
   "metadata": {
    "collapsed": false
   },
   "outputs": [
    {
     "name": "stdout",
     "output_type": "stream",
     "text": [
      "DUSP_INHIBITOR [True, True, True, True, True, True, True, True, True, True, True]\n",
      "SURVIVAL [False, False, False, False, False, False, False, False, False, False, False]\n",
      "HERCEPTIN [False, False, False, False, False, False, False, False, False, False, False]\n",
      "P38 [False, True, True, True, True, True, True, True, True, True, True]\n",
      "JNK [False, True, True, True, True, True, True, True, True, True, True]\n",
      "HER2 [True, True, True, True, True, True, True, True, True, True, True]\n",
      "DUSP [False, False, False, False, False, False, False, False, False, False, False]\n",
      "ERK [False, True, True, True, True, True, True, True, True, True, True]\n"
     ]
    }
   ],
   "source": [
    "model = b2.Model(text=DUSP_INHIBITOR, mode=\"sync\")\n",
    "model.initialize()\n",
    "model.iterate(steps=10)\n",
    "for node in model.data:\n",
    "    print node, model.data[node]"
   ]
  },
  {
   "cell_type": "code",
   "execution_count": 57,
   "id": "ebd7c4",
   "metadata": {
    "collapsed": false
   },
   "outputs": [
   ],
   "source": [
    "DUSP_INHIBITOR_AND_HERCEPTIN = \"\"\" \n",
    "#Initial values\n",
    "\n",
    "HER2 = True\n",
    "ERK = False\n",
    "P38 = False\n",
    "JNK = False\n",
    "DUSP = False\n",
    "SURVIVAL = False\n",
    "HERCEPTIN = True\n",
    "DUSP_INHIBITOR = True\n",
    "\n",
    "#Rules\n",
    "\n",
    "HER2* = HER2 and not HERCEPTIN\n",
    "ERK* = HER2\n",
    "P38* = HER2 and not DUSP\n",
    "JNK* = HER2 and not DUSP \n",
    "DUSP* = JNK and not DUSP_INHIBITOR\n",
    "SURVIVAL* = ERK and not JNK and not P38\n",
    "\"\"\""
   ]
  },
  {
   "cell_type": "code",
   "execution_count": 58,
   "id": "79161f",
   "metadata": {
    "collapsed": false
   },
   "outputs": [
    {
     "name": "stdout",
     "output_type": "stream",
     "text": [
      "DUSP_INHIBITOR [True, True, True, True, True, True, True, True, True, True, True]\n",
      "SURVIVAL [False, False, False, False, False, False, False, False, False, False, False]\n",
      "HERCEPTIN [True, True, True, True, True, True, True, True, True, True, True]\n",
      "P38 [False, True, False, False, False, False, False, False, False, False, False]\n",
      "JNK [False, True, False, False, False, False, False, False, False, False, False]\n",
      "HER2 [True, False, False, False, False, False, False, False, False, False, False]\n",
      "DUSP [False, False, False, False, False, False, False, False, False, False, False]\n",
      "ERK [False, True, False, False, False, False, False, False, False, False, False]\n"
     ]
    }
   ],
   "source": [
    "model = b2.Model(text=DUSP_INHIBITOR_AND_HERCEPTIN, mode=\"sync\")\n",
    "model.initialize()\n",
    "model.iterate(steps=10)\n",
    "for node in model.data:\n",
    "    print node, model.data[node]"
   ]
  },
  {
   "cell_type": "code",
   "execution_count": 0,
   "id": "793e01",
   "metadata": {
    "collapsed": false
   },
   "outputs": [
   ],
   "source": [
   ]
  }
 ],
 "metadata": {
  "kernelspec": {
   "argv": [
    "python2",
    "-m",
    "ipykernel_launcher",
    "-f",
    "{connection_file}"
   ],
   "display_name": "Python 2",
   "env": {
   },
   "language": "python",
   "metadata": {
    "cocalc": {
     "description": "Python 2 programming language",
     "priority": 0,
     "url": "https://www.python.org/"
    }
   },
   "name": "python2",
   "resource_dir": "/ext/jupyter/kernels/python2"
  },
  "language_info": {
   "codemirror_mode": {
    "name": "ipython",
    "version": 2
   },
   "file_extension": ".py",
   "mimetype": "text/x-python",
   "name": "python",
   "nbconvert_exporter": "python",
   "pygments_lexer": "ipython2",
   "version": "2.7.18"
  }
 },
 "nbformat": 4,
 "nbformat_minor": 4
}
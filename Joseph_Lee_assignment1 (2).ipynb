{
 "cells": [
  {
   "cell_type": "markdown",
   "id": "cf5937",
   "metadata": {
    "collapsed": false
   },
   "source": [
    "# Assignment 1 - Programming skills"
   ]
  },
  {
   "cell_type": "markdown",
   "id": "0c79fa",
   "metadata": {
    "collapsed": false
   },
   "source": [
    "## Author information\n",
    "\n",
    "Name: Joseph Lee\n",
    "\n",
    "Student ID: 10172793\n",
    "\n"
   ]
  },
  {
   "cell_type": "markdown",
   "id": "a5b344",
   "metadata": {
    "collapsed": false
   },
   "source": [
    "## Overview\n",
    "\n",
    "The aim of this assignment is to create a simple python script using content from the lectures which can be developed during the introductory period of the module. In addition to using content from the module you will be encouraged to search for solutions using online documentation, document your code and follow file naming conventions. All of which are an important parts of developing code for bioinformatics projects.\n",
    "\n",
    "Task: you have a dataset of DNA sequences that are important to your research and you recently identified a new sequence that you would like to add to this dataset. However, your existing DNA sequences are represented in the sense strand of DNA and your new sequence is represented on the antisense strand. You will therefore need to reverse complement this new sequence prior to adding it to your dataset.\n"
   ]
  },
  {
   "cell_type": "markdown",
   "id": "9379bf",
   "metadata": {
    "collapsed": false
   },
   "source": [
    "### Step 1\n",
    "\n",
    "Read the input file, \"sequence_dataset.txt\", into a dictionary. Add a comment to briefly explain your understanding of a dictionary."
   ]
  },
  {
   "cell_type": "code",
   "execution_count": 4,
   "id": "2620de",
   "metadata": {
    "collapsed": false
   },
   "outputs": [
    {
     "name": "stdout",
     "output_type": "stream",
     "text": [
      "{'IL23R': 'aggcagtgaggaaagaagacatgacacagccaacaagggtggcagcctggctctgaagtg', 'TNF': 'cgaaccccgagtgacaagcctgtagcccatgttgtag', 'APOE': 'cgcctcaagagctggttcgagcccctggtggaagacatgcagcgccagtgggccgggctggtggagaaggtgcaggctgccgtgggcaccagcgccgcccctgtgcccagcgacaatcac', 'IL6': 'aatctagatgcaataaccacccctgacccaaccacaaatgccagcctgctgacgaagctg'}\n"
     ]
    }
   ],
   "source": [
    "sequence_dictionary = {}\n",
    "\n",
    "with open(r\"sequence_dataset.txt\") as sequence_dataset:\n",
    "    for line in sequence_dataset:\n",
    "        key, value = line.strip().split(\"\\t\")\n",
    "        sequence_dictionary[key] = value\n",
    "        \n",
    "print(sequence_dictionary)\n",
    "\n",
    "\n",
    "#Create empty dictionary. Read .txt file, .split() into key:value pairs. Stripping .strip() to remove any whitespace that can interfere in future code. Assign each key:value pair to the empty dictionary\n",
    "\n",
    "#################################################################################\n",
    "\n",
    "#A dictionary is a data structure which stores data in key:value pairs. Each key is mapped to an associated value. For example, calling the gene IL23R (the key) using print(sequence_dictionary[\"IL23R\"]) will provide the corresponding DNA sequence(the value). They are defined using curled braces {} and colons are used to separate each key from its associated value. Dictionaries can be changed. \n",
    " "
   ]
  },
  {
   "cell_type": "markdown",
   "id": "eeb4d3",
   "metadata": {
    "collapsed": false
   },
   "source": [
    "### Step 2\n",
    "\n",
    "Read the input file for your new sequence, \"new_sequence.txt\", into a variable.\n",
    "\n"
   ]
  },
  {
   "cell_type": "code",
   "execution_count": 5,
   "id": "0edfba",
   "metadata": {
    "collapsed": false
   },
   "outputs": [
    {
     "name": "stdout",
     "output_type": "stream",
     "text": [
      "ggagagcgggccgccccacagcccgagccggagagggagcgcgagccgcgccggccccggtcgggcctccgaaaccatgaactttctgctgtcttgggtgcattggagccttgccttgct\n"
     ]
    }
   ],
   "source": [
    "file = open(r\"new_sequence.txt\")\n",
    "new_sequence = file.read().strip()\n",
    "\n",
    "print (new_sequence)\n",
    "\n",
    "#Opening and reading .txt file. Define my variable new_sequence as the read .txt file. Use .strip() to remove any whitespace characters that can interfere in future code."
   ]
  },
  {
   "cell_type": "markdown",
   "id": "9b4744",
   "metadata": {
    "collapsed": false
   },
   "source": [
    "### Step 3\n",
    "\n",
    "Create a new variable with the reverse complement of this sequence. \n",
    "\n",
    "HINT: you may run in to trouble with using str.replace, so try looking at the documentation for str.translate() and the helper function str.maketrans(). This function converts a dictionary to explicitly map the changes in the nucleotide bases e.g.,\n",
    "\n",
    "myseq = \"acgtcgt\"\n",
    "\n",
    "complement_dictionary = {\n",
    "\"c\": \"g\",\n",
    "\"g\": \"c\",\n",
    "\"a\": \"t\",\n",
    "\"t\": \"a\"\n",
    "}\n",
    "\n",
    "mytable = myseq.maketrans(complement_dictionary)\n",
    "\n",
    "mytranslate = myseq.translate(mytable)\n",
    "\n"
   ]
  },
  {
   "cell_type": "code",
   "execution_count": 6,
   "id": "9cfc67",
   "metadata": {
    "collapsed": false
   },
   "outputs": [
    {
     "name": "stdout",
     "output_type": "stream",
     "text": [
      "agcaaggcaaggctccaatgcacccaagacagcagaaagttcatggtttcggaggcccgaccggggccggcgcggctcgcgctccctctccggctcgggctgtggggcggcccgctctcc\n"
     ]
    }
   ],
   "source": [
    "new_sequence_reverse = new_sequence[::-1] \n",
    "complement_dictionary = {\"c\": \"g\", \"g\": \"c\", \"a\": \"t\",\"t\": \"a\"}\n",
    "mytable = str.maketrans(complement_dictionary)\n",
    "new_sequence_reverse_complement = new_sequence_reverse.translate(mytable)\n",
    "\n",
    "print(new_sequence_reverse_complement)\n",
    "\n",
    "\n",
    "#Negative indexing [::-1] to display the sequence in reverse order. Assigned this to a new variable. Used the reverse complement dictionary and added to a mapping table. Used translate() with the mapping table containing the reverse complement dictionary on the reversed string to return the string with the reverse complement. Assigned this to a new variable. "
   ]
  },
  {
   "cell_type": "markdown",
   "id": "2dd49b",
   "metadata": {
    "collapsed": false
   },
   "source": [
    "### Step 4\n",
    "\n",
    "Add this new processed sequence to your DNA sequence dictionary (from step 1) using the gene name (VEGF) as the key."
   ]
  },
  {
   "cell_type": "code",
   "execution_count": 7,
   "id": "a080d3",
   "metadata": {
    "collapsed": false
   },
   "outputs": [
    {
     "name": "stdout",
     "output_type": "stream",
     "text": [
      "{'IL23R': 'aggcagtgaggaaagaagacatgacacagccaacaagggtggcagcctggctctgaagtg', 'TNF': 'cgaaccccgagtgacaagcctgtagcccatgttgtag', 'APOE': 'cgcctcaagagctggttcgagcccctggtggaagacatgcagcgccagtgggccgggctggtggagaaggtgcaggctgccgtgggcaccagcgccgcccctgtgcccagcgacaatcac', 'IL6': 'aatctagatgcaataaccacccctgacccaaccacaaatgccagcctgctgacgaagctg', 'VEGF': 'agcaaggcaaggctccaatgcacccaagacagcagaaagttcatggtttcggaggcccgaccggggccggcgcggctcgcgctccctctccggctcgggctgtggggcggcccgctctcc'}\n"
     ]
    }
   ],
   "source": [
    "sequence_dictionary[\"VEGF\"] = new_sequence_reverse_complement \n",
    "\n",
    "print(sequence_dictionary)\n",
    "\n",
    "#Adding key VEGF and then assigning the variable new_sequence_reverse_complement as the value. Adding this to the dictionary. Printing to check that it was added successfully."
   ]
  },
  {
   "cell_type": "markdown",
   "id": "35b10d",
   "metadata": {
    "collapsed": false
   },
   "source": [
    "### Step 5\n",
    "\n",
    "Count the length of sequence for each gene, assign this value to a variable and use this to print to the screen within a descriptive sentence. For example:\n",
    "\n",
    "\"the length of sequence for IL23R is 60\"\n",
    "\n",
    "You could review the python documentation for \"fancier output formatting\" - https://docs.python.org/3/tutorial/inputoutput.html#fancier-output-formatting"
   ]
  },
  {
   "cell_type": "code",
   "execution_count": 10,
   "id": "526ea7",
   "metadata": {
    "collapsed": false
   },
   "outputs": [
    {
     "name": "stdout",
     "output_type": "stream",
     "text": [
      "The length of sequence for IL23R is 60\n",
      "The length of sequence for TNF is 37\n",
      "The length of sequence for APOE is 120\n",
      "The length of sequence for IL6 is 60\n",
      "The length of sequence for VEGF is 120\n",
      "{'IL23R': 60, 'TNF': 37, 'APOE': 120, 'IL6': 60, 'VEGF': 120}\n"
     ]
    }
   ],
   "source": [
    "sequence_lengths = {}\n",
    "\n",
    "for key, value in sequence_dictionary.items():\n",
    "    sequence_lengths[key] = len(value)\n",
    "    print(f\"The length of sequence for {key} is {len(value)}\")\n",
    "\n",
    "    \n",
    "#Used a for loop to go through each key value pair in the sequence dictionary. Then used len() to assign the length of the value to the key. Then used an f string literal to print the key value pairs and the associated sequence value length for them. Variable sequence_lengths contains dictionary with the sequences and their lengths. "
   ]
  },
  {
   "cell_type": "markdown",
   "id": "8742f7",
   "metadata": {
    "collapsed": false
   },
   "source": [
    "### Step 6\n",
    "\n",
    "Write the new dictionary to file called sequence_dataset_version2.txt."
   ]
  },
  {
   "cell_type": "code",
   "execution_count": 16,
   "id": "d57f08",
   "metadata": {
    "collapsed": false
   },
   "outputs": [
    {
     "name": "stdout",
     "output_type": "stream",
     "text": [
      "IL23R:aggcagtgaggaaagaagacatgacacagccaacaagggtggcagcctggctctgaagtg\n",
      "TNF:cgaaccccgagtgacaagcctgtagcccatgttgtag\n",
      "APOE:cgcctcaagagctggttcgagcccctggtggaagacatgcagcgccagtgggccgggctggtggagaaggtgcaggctgccgtgggcaccagcgccgcccctgtgcccagcgacaatcac\n",
      "IL6:aatctagatgcaataaccacccctgacccaaccacaaatgccagcctgctgacgaagctg\n",
      "VEGF:agcaaggcaaggctccaatgcacccaagacagcagaaagttcatggtttcggaggcccgaccggggccggcgcggctcgcgctccctctccggctcgggctgtggggcggcccgctctcc\n",
      "\n"
     ]
    }
   ],
   "source": [
    "with open(\"sequence_dataset_version2.txt\", \"w\") as file:\n",
    "    for key, value in sequence_dictionary.items():\n",
    "        file.write(\"%s:%s\\n\" %(key,value))\n",
    "\n",
    "f = open(r\"sequence_dataset_version2.txt\")\n",
    "print(f.read())\n",
    "\n",
    "# Wrote a brand new file. Converted the Key and Value for into strings as only strings can be written to a file. Used \\n for a new line between each set of key:value pairs in the .txt file. Printing and opening it to check if correct. This is why I used the .strip() earlier. Without it there would be unecessary white space characters in the new .txt file "
   ]
  },
  {
   "cell_type": "code",
   "execution_count": 0,
   "id": "fe6b14",
   "metadata": {
    "collapsed": false
   },
   "outputs": [
   ],
   "source": [
   ]
  }
 ],
 "metadata": {
  "kernelspec": {
   "argv": [
    "/usr/bin/python3",
    "-m",
    "ipykernel",
    "--HistoryManager.enabled=False",
    "--matplotlib=inline",
    "-c",
    "%config InlineBackend.figure_formats = set(['retina'])\nimport matplotlib; matplotlib.rcParams['figure.figsize'] = (12, 7)",
    "-f",
    "{connection_file}"
   ],
   "display_name": "Python 3 (system-wide)",
   "env": {
   },
   "language": "python",
   "metadata": {
    "cocalc": {
     "description": "Python 3 programming language",
     "priority": 100,
     "url": "https://www.python.org/"
    }
   },
   "name": "python3",
   "resource_dir": "/ext/jupyter/kernels/python3"
  },
  "language_info": {
   "codemirror_mode": {
    "name": "ipython",
    "version": 3
   },
   "file_extension": ".py",
   "mimetype": "text/x-python",
   "name": "python",
   "nbconvert_exporter": "python",
   "pygments_lexer": "ipython3",
   "version": "3.10.12"
  }
 },
 "nbformat": 4,
 "nbformat_minor": 4
}